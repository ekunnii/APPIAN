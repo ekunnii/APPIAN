{
  "nbformat": 4,
  "nbformat_minor": 0,
  "metadata": {
    "colab": {
      "name": "IFT6390-Classification de commentaires Reddit.ipynb",
      "provenance": [],
      "include_colab_link": true
    },
    "kernelspec": {
      "name": "python3",
      "display_name": "Python 3"
    }
  },
  "cells": [
    {
      "cell_type": "markdown",
      "metadata": {
        "id": "view-in-github",
        "colab_type": "text"
      },
      "source": [
        "<a href=\"https://colab.research.google.com/github/ekunnii/APPIAN/blob/master/Kaggle/IFT6390_Classification_de_commentaires_Reddit.ipynb\" target=\"_parent\"><img src=\"https://colab.research.google.com/assets/colab-badge.svg\" alt=\"Open In Colab\"/></a>"
      ]
    },
    {
      "cell_type": "code",
      "metadata": {
        "id": "rx_o0zwFBZmd",
        "colab_type": "code",
        "colab": {}
      },
      "source": [
        "import numpy as np\n",
        "import pandas as pd\n",
        "import os\n",
        "import matplotlib.pyplot as plt\n",
        "import time\n",
        "%matplotlib inline"
      ],
      "execution_count": 0,
      "outputs": []
    },
    {
      "cell_type": "code",
      "metadata": {
        "id": "3SFG0y8uepl2",
        "colab_type": "code",
        "outputId": "b9f5fec4-7c34-4887-ea50-680d773dd4c6",
        "colab": {
          "base_uri": "https://localhost:8080/",
          "height": 34
        }
      },
      "source": [
        "!pwd"
      ],
      "execution_count": 0,
      "outputs": [
        {
          "output_type": "stream",
          "text": [
            "/content\n"
          ],
          "name": "stdout"
        }
      ]
    },
    {
      "cell_type": "markdown",
      "metadata": {
        "id": "hAfOr8xNZRMZ",
        "colab_type": "text"
      },
      "source": [
        "### load data from Google Drive"
      ]
    },
    {
      "cell_type": "code",
      "metadata": {
        "id": "kUQ0ulS0BbSo",
        "colab_type": "code",
        "outputId": "271db99c-e23f-4a2d-9165-dc91ed82ea3f",
        "colab": {
          "base_uri": "https://localhost:8080/",
          "height": 54
        }
      },
      "source": [
        "from google.colab import drive\n",
        "drive.mount('/content/gdrive')\n",
        "root_path = 'gdrive/My Drive/IFT6390_Kaggle/'\n",
        "os.chdir(root_path)\n",
        "\n",
        "#if Error: Transport endpoint is not connected\n",
        "#go to Runtime --> Restart runtime"
      ],
      "execution_count": 0,
      "outputs": [
        {
          "output_type": "stream",
          "text": [
            "Drive already mounted at /content/gdrive; to attempt to forcibly remount, call drive.mount(\"/content/gdrive\", force_remount=True).\n"
          ],
          "name": "stdout"
        }
      ]
    },
    {
      "cell_type": "code",
      "metadata": {
        "id": "mm7tGJFRChWO",
        "colab_type": "code",
        "colab": {}
      },
      "source": [
        "data_train = np.load('data_train.pkl', allow_pickle=True)\n",
        "data_test = np.load('data_test.pkl', allow_pickle=True)"
      ],
      "execution_count": 0,
      "outputs": []
    },
    {
      "cell_type": "code",
      "metadata": {
        "id": "bvGII4clDb0V",
        "colab_type": "code",
        "outputId": "72d292d1-45bf-4196-f6e2-57e871206d67",
        "colab": {
          "base_uri": "https://localhost:8080/",
          "height": 206
        }
      },
      "source": [
        "df_test = pd.DataFrame({'message':data_test})\n",
        "df_train = pd.DataFrame({'message':data_train[0],'subreddit': data_train[1]}  )\n",
        "df_train.head()"
      ],
      "execution_count": 0,
      "outputs": [
        {
          "output_type": "execute_result",
          "data": {
            "text/html": [
              "<div>\n",
              "<style scoped>\n",
              "    .dataframe tbody tr th:only-of-type {\n",
              "        vertical-align: middle;\n",
              "    }\n",
              "\n",
              "    .dataframe tbody tr th {\n",
              "        vertical-align: top;\n",
              "    }\n",
              "\n",
              "    .dataframe thead th {\n",
              "        text-align: right;\n",
              "    }\n",
              "</style>\n",
              "<table border=\"1\" class=\"dataframe\">\n",
              "  <thead>\n",
              "    <tr style=\"text-align: right;\">\n",
              "      <th></th>\n",
              "      <th>message</th>\n",
              "      <th>subreddit</th>\n",
              "    </tr>\n",
              "  </thead>\n",
              "  <tbody>\n",
              "    <tr>\n",
              "      <th>0</th>\n",
              "      <td>Honestly, Buffalo is the correct answer. I rem...</td>\n",
              "      <td>hockey</td>\n",
              "    </tr>\n",
              "    <tr>\n",
              "      <th>1</th>\n",
              "      <td>Ah yes way could have been :( remember when he...</td>\n",
              "      <td>nba</td>\n",
              "    </tr>\n",
              "    <tr>\n",
              "      <th>2</th>\n",
              "      <td>https://youtu.be/6xxbBR8iSZ0?t=40m49s\\n\\nIf yo...</td>\n",
              "      <td>leagueoflegends</td>\n",
              "    </tr>\n",
              "    <tr>\n",
              "      <th>3</th>\n",
              "      <td>He wouldn't have been a bad signing if we woul...</td>\n",
              "      <td>soccer</td>\n",
              "    </tr>\n",
              "    <tr>\n",
              "      <th>4</th>\n",
              "      <td>Easy. You use the piss and dry technique. Let ...</td>\n",
              "      <td>funny</td>\n",
              "    </tr>\n",
              "  </tbody>\n",
              "</table>\n",
              "</div>"
            ],
            "text/plain": [
              "                                             message        subreddit\n",
              "0  Honestly, Buffalo is the correct answer. I rem...           hockey\n",
              "1  Ah yes way could have been :( remember when he...              nba\n",
              "2  https://youtu.be/6xxbBR8iSZ0?t=40m49s\\n\\nIf yo...  leagueoflegends\n",
              "3  He wouldn't have been a bad signing if we woul...           soccer\n",
              "4  Easy. You use the piss and dry technique. Let ...            funny"
            ]
          },
          "metadata": {
            "tags": []
          },
          "execution_count": 5
        }
      ]
    },
    {
      "cell_type": "code",
      "metadata": {
        "id": "l3764ifMQXj6",
        "colab_type": "code",
        "colab": {}
      },
      "source": [
        "topic_count = df_train.groupby('subreddit').message.count()\n",
        "topics = topic_count.index\n",
        "## priors of the topic prob\n",
        "priors = topic_count/df_train.shape[0]"
      ],
      "execution_count": 0,
      "outputs": []
    },
    {
      "cell_type": "code",
      "metadata": {
        "id": "cTAO1tmZGuOm",
        "colab_type": "code",
        "outputId": "e64f1f12-1519-468c-f737-2e8ab5cf51bc",
        "colab": {
          "base_uri": "https://localhost:8080/",
          "height": 356
        }
      },
      "source": [
        "topic_count.plot.bar(ylim=0)\n",
        "plt.show()"
      ],
      "execution_count": 0,
      "outputs": [
        {
          "output_type": "display_data",
          "data": {
            "image/png": "[encoded data removed]",
            "text/plain": [
              "<Figure size 432x288 with 1 Axes>"
            ]
          },
          "metadata": {
            "tags": []
          }
        }
      ]
    },
    {
      "cell_type": "markdown",
      "metadata": {
        "id": "ECPwT9WvPdj1",
        "colab_type": "text"
      },
      "source": [
        "### Data Preprocessing using NLTK\n"
      ]
    },
    {
      "cell_type": "code",
      "metadata": {
        "id": "wJny3DHQPcpj",
        "colab_type": "code",
        "colab": {}
      },
      "source": [
        "import re\n",
        "import nltk\n",
        "from nltk.stem import PorterStemmer \n",
        "from nltk.tokenize import word_tokenize \n",
        "from nltk.corpus import stopwords\n"
      ],
      "execution_count": 0,
      "outputs": []
    },
    {
      "cell_type": "code",
      "metadata": {
        "id": "xUQYup8oRfU-",
        "colab_type": "code",
        "outputId": "2e59672f-1dfd-4a52-f9ea-e9620bdeac08",
        "colab": {
          "base_uri": "https://localhost:8080/",
          "height": 86
        }
      },
      "source": [
        "#dowload stopwords\n",
        "nltk.download('stopwords')\n",
        "stop_words = set(stopwords.words('english')) \n",
        "\n",
        "#download punkt for word_tokensize\n",
        "nltk.download('punkt')\n",
        "stemmer = PorterStemmer()"
      ],
      "execution_count": 0,
      "outputs": [
        {
          "output_type": "stream",
          "text": [
            "[nltk_data] Downloading package stopwords to /root/nltk_data...\n",
            "[nltk_data]   Package stopwords is already up-to-date!\n",
            "[nltk_data] Downloading package punkt to /root/nltk_data...\n",
            "[nltk_data]   Package punkt is already up-to-date!\n"
          ],
          "name": "stdout"
        }
      ]
    },
    {
      "cell_type": "markdown",
      "metadata": {
        "id": "COTd5wrLm3jy",
        "colab_type": "text"
      },
      "source": [
        "### Toy example"
      ]
    },
    {
      "cell_type": "code",
      "metadata": {
        "id": "bS6LjN5GXpCX",
        "colab_type": "code",
        "colab": {}
      },
      "source": [
        "# ## toy example of wordtokensize\n",
        "# #https://www.geeksforgeeks.org/removing-stop-words-nltk-python/\n",
        "# example_sent = \"add 200 to fix programme 2xx yes is oh, passed, dps\"\n",
        "\n",
        "# # only keep word  \n",
        "# word_tokens = re.sub(\"[^a-zA-Z]\", \" \", example_sent).split()  \n",
        "# ## keep ponctuations and numbers\n",
        "# # word_tokenize(example_sent) \n",
        "\n",
        "# # remove stop words\n",
        "# stop_words = set(stopwords.words('english')) \n",
        "# filtered_sentence = [w for w in word_tokens if not w in stop_words] \n",
        "\n",
        "# # remove stemmers\n",
        "# # https://www.geeksforgeeks.org/python-stemming-words-with-nltk/\n",
        "# sentence = [stemmer.stem(w) for w in filtered_sentence]  # \n",
        "# sentence\n"
      ],
      "execution_count": 0,
      "outputs": []
    },
    {
      "cell_type": "markdown",
      "metadata": {
        "id": "kyySrUFlm6nD",
        "colab_type": "text"
      },
      "source": [
        "### remove stopwords"
      ]
    },
    {
      "cell_type": "code",
      "metadata": {
        "id": "9XRdMgNjSmN_",
        "colab_type": "code",
        "colab": {}
      },
      "source": [
        "def remove_stopwords(input_data):\n",
        "    '''\n",
        "    input_data: a vector of messages\n",
        "    output: stopwords removed\n",
        "    '''\n",
        "    # required:\n",
        "    # import nltk\n",
        "    # dowload stopwords\n",
        "    # nltk.download('stopwords')\n",
        "    stop_words = set(stopwords.words('english')) \n",
        "    output = []\n",
        "    for i, sentence in enumerate(input_data):\n",
        "        #words = word_tokenize(sentence)  #will not remove punctuations and numbers\n",
        "        sms = re.sub(\"[^a-zA-Z]\", \" \", sentence).lower()\n",
        "        words = word_tokenize(sms)\n",
        "        filtered_sentence = [w for w in words if not w in stop_words]\n",
        "        output.append(\" \".join(filtered_sentence).lower() )\n",
        "    return output\n",
        "\n",
        "    "
      ],
      "execution_count": 0,
      "outputs": []
    },
    {
      "cell_type": "markdown",
      "metadata": {
        "id": "K4UAkkqpm95O",
        "colab_type": "text"
      },
      "source": [
        "### remove stemmers"
      ]
    },
    {
      "cell_type": "code",
      "metadata": {
        "id": "Fy2CSgypuEm1",
        "colab_type": "code",
        "outputId": "f72899e4-cbe6-4681-e394-68be73e7addd",
        "colab": {
          "base_uri": "https://localhost:8080/",
          "height": 34
        }
      },
      "source": [
        "def reduce_lengthening(text):\n",
        "    pattern = re.compile(r\"(.)\\1{2,}\")\n",
        "    return pattern.sub(r\"\\1\\1\", text)\n",
        "\n",
        "print(reduce_lengthening( \"finallllllly\" ) )"
      ],
      "execution_count": 0,
      "outputs": [
        {
          "output_type": "stream",
          "text": [
            "finally\n"
          ],
          "name": "stdout"
        }
      ]
    },
    {
      "cell_type": "code",
      "metadata": {
        "id": "jvkoLmabVdYq",
        "colab_type": "code",
        "colab": {}
      },
      "source": [
        "def remove_stemmers(input_data):\n",
        "    '''\n",
        "    input: a vector of messages \n",
        "    output: remvove stemmers and punctuations\n",
        "        all lower letter \n",
        "        stemmer removed\n",
        "        punctuations removed\n",
        "    '''\n",
        "    ## require download punkt for word_tokensize\n",
        "    #nltk.download('punkt')\n",
        "    #stemmer = PorterStemmer()\n",
        "    \n",
        "    ## https://towardsdatascience.com/multi-class-text-classification-with-sklearn-and-nltk-in-python-a-software-engineering-use-case-779d4a28ba5\n",
        "    ## df_train[\"cleaned\"] = df_train['message'].apply(lambda x: \" \".join([stemmer.stem(i) for i in re.sub(\"[^a-zA-Z]\", \" \", x).split() if i not in words]).lower())\n",
        "    output = []\n",
        "    for i, sentence in enumerate(input_data):\n",
        "        sms = re.sub(\"[^a-zA-Z]\", \" \", sentence) \n",
        "        words = word_tokenize(sms)\n",
        "        filtered_sentence = [stemmer.stem(reduce_lengthening(w)) for w in words]\n",
        "        output.append(\" \".join(filtered_sentence) )\n",
        "        \n",
        "    return output"
      ],
      "execution_count": 0,
      "outputs": []
    },
    {
      "cell_type": "code",
      "metadata": {
        "id": "IuuqZxJGVwrJ",
        "colab_type": "code",
        "colab": {}
      },
      "source": [
        "def messages_preprocess(input_data):      \n",
        "    return remove_stemmers(remove_stopwords(input_data))"
      ],
      "execution_count": 0,
      "outputs": []
    },
    {
      "cell_type": "code",
      "metadata": {
        "id": "iHiByO_14HPM",
        "colab_type": "code",
        "outputId": "09f9f141-04ed-49a6-a20e-98508e353285",
        "colab": {
          "base_uri": "https://localhost:8080/",
          "height": 223
        }
      },
      "source": [
        "#preprocess df_train\n",
        "start = time.time()\n",
        "\n",
        "df_train['cleaned'] = messages_preprocess(df_train[\"message\"])  #about 1 min\n",
        "\n",
        "end = time.time()\n",
        "print(end - start)\n",
        "df_train.head()"
      ],
      "execution_count": 0,
      "outputs": [
        {
          "output_type": "stream",
          "text": [
            "66.68078351020813\n"
          ],
          "name": "stdout"
        },
        {
          "output_type": "execute_result",
          "data": {
            "text/html": [
              "<div>\n",
              "<style scoped>\n",
              "    .dataframe tbody tr th:only-of-type {\n",
              "        vertical-align: middle;\n",
              "    }\n",
              "\n",
              "    .dataframe tbody tr th {\n",
              "        vertical-align: top;\n",
              "    }\n",
              "\n",
              "    .dataframe thead th {\n",
              "        text-align: right;\n",
              "    }\n",
              "</style>\n",
              "<table border=\"1\" class=\"dataframe\">\n",
              "  <thead>\n",
              "    <tr style=\"text-align: right;\">\n",
              "      <th></th>\n",
              "      <th>message</th>\n",
              "      <th>subreddit</th>\n",
              "      <th>cleaned</th>\n",
              "    </tr>\n",
              "  </thead>\n",
              "  <tbody>\n",
              "    <tr>\n",
              "      <th>0</th>\n",
              "      <td>Honestly, Buffalo is the correct answer. I rem...</td>\n",
              "      <td>hockey</td>\n",
              "      <td>honestli buffalo correct answer rememb peopl s...</td>\n",
              "    </tr>\n",
              "    <tr>\n",
              "      <th>1</th>\n",
              "      <td>Ah yes way could have been :( remember when he...</td>\n",
              "      <td>nba</td>\n",
              "      <td>ah ye way could rememb draft thought gon na gr...</td>\n",
              "    </tr>\n",
              "    <tr>\n",
              "      <th>2</th>\n",
              "      <td>https://youtu.be/6xxbBR8iSZ0?t=40m49s\\n\\nIf yo...</td>\n",
              "      <td>leagueoflegends</td>\n",
              "      <td>http youtu xxbbr isz find alreadi noth ordinar...</td>\n",
              "    </tr>\n",
              "    <tr>\n",
              "      <th>3</th>\n",
              "      <td>He wouldn't have been a bad signing if we woul...</td>\n",
              "      <td>soccer</td>\n",
              "      <td>bad sign paid euro right price would accept</td>\n",
              "    </tr>\n",
              "    <tr>\n",
              "      <th>4</th>\n",
              "      <td>Easy. You use the piss and dry technique. Let ...</td>\n",
              "      <td>funny</td>\n",
              "      <td>easi use piss dri techniqu let drop let dri ri...</td>\n",
              "    </tr>\n",
              "  </tbody>\n",
              "</table>\n",
              "</div>"
            ],
            "text/plain": [
              "                                             message  ...                                            cleaned\n",
              "0  Honestly, Buffalo is the correct answer. I rem...  ...  honestli buffalo correct answer rememb peopl s...\n",
              "1  Ah yes way could have been :( remember when he...  ...  ah ye way could rememb draft thought gon na gr...\n",
              "2  https://youtu.be/6xxbBR8iSZ0?t=40m49s\\n\\nIf yo...  ...  http youtu xxbbr isz find alreadi noth ordinar...\n",
              "3  He wouldn't have been a bad signing if we woul...  ...        bad sign paid euro right price would accept\n",
              "4  Easy. You use the piss and dry technique. Let ...  ...  easi use piss dri techniqu let drop let dri ri...\n",
              "\n",
              "[5 rows x 3 columns]"
            ]
          },
          "metadata": {
            "tags": []
          },
          "execution_count": 14
        }
      ]
    },
    {
      "cell_type": "markdown",
      "metadata": {
        "id": "67IhBReGWVkL",
        "colab_type": "text"
      },
      "source": [
        "# Naive Bayes with smoothing"
      ]
    },
    {
      "cell_type": "code",
      "metadata": {
        "id": "gXpLgjUrpEgp",
        "colab_type": "code",
        "outputId": "37b756c7-c67e-4864-9e5a-31d767c82e63",
        "colab": {
          "base_uri": "https://localhost:8080/",
          "height": 34
        }
      },
      "source": [
        "from tokenize import tokenize\n",
        "\n",
        "# extract all the words in the cleaned messages\n",
        "def tokenize(sentences): \n",
        "    '''\n",
        "    input: cleaned messages\n",
        "    output: a list of unique vocabulary\n",
        "    '''\n",
        "    words = set()\n",
        "    for sentence in sentences:\n",
        "        sentence = sentence.split()\n",
        "        for w in sentence:\n",
        "            words.add(w)\n",
        "    words = sorted(list(words))\n",
        "    return words\n",
        "\n",
        "# vocabulary in df_train\n",
        "vocab = tokenize(df_train['cleaned'])\n",
        "print('total vocabulary in training data = ', len(vocab))"
      ],
      "execution_count": 0,
      "outputs": [
        {
          "output_type": "stream",
          "text": [
            "total vocabulary in training data =  48911\n"
          ],
          "name": "stdout"
        }
      ]
    },
    {
      "cell_type": "code",
      "metadata": {
        "id": "fpSrqveWOwOg",
        "colab_type": "code",
        "colab": {}
      },
      "source": [
        "def loglikelihood_topic(vocab, topic_sentences):\n",
        "    '''\n",
        "    vocab: vocabulary found in training data\n",
        "    topic_sentences: cleaned column of messages\n",
        "    output: list of loglikelihood of each word in the topic_sentences\n",
        "    '''\n",
        "    ######################################################################\n",
        "    ######### HYPERPARAMETER ALPHA   #####################################\n",
        "    ######################################################################\n",
        "    alpha = 2\n",
        "    count = [alpha for i in range(len(vocab))]\n",
        "    dictionary = dict(zip(vocab, count))\n",
        "    total_words = 0\n",
        "    \n",
        "    for idx, sentence in enumerate(topic_sentences):\n",
        "        words = sentence.split()\n",
        "        for w in words:\n",
        "            total_words += 1\n",
        "            dictionary[w] += 1\n",
        "    \n",
        "    #smoothing https://towardsdatascience.com/multinomial-naive-bayes-classifier-for-text-analysis-python-8dd6825ece67\n",
        "\n",
        "    prob = np.array(list(dictionary.values()))/(total_words + len(vocab)+1)\n",
        "    return np.log(prob)\n"
      ],
      "execution_count": 0,
      "outputs": []
    },
    {
      "cell_type": "code",
      "metadata": {
        "id": "QgEUdsIYiqt5",
        "colab_type": "code",
        "outputId": "1e688f30-5fdb-459d-b715-83aa3b856d6f",
        "colab": {
          "base_uri": "https://localhost:8080/",
          "height": 243
        }
      },
      "source": [
        "def loglikelihood_matrix(vocab, topics, df_train):\n",
        "    '''\n",
        "    return a matrix vocabulary*topics\n",
        "    '''\n",
        "    matrix = np.zeros((len(vocab), len(topics) ))\n",
        "    for i, label in enumerate(topics):\n",
        "        data = df_train['cleaned'][df_train['subreddit'] == label ]\n",
        "        prob = loglikelihood_topic(vocab, data) \n",
        "        matrix[:,i] = prob \n",
        "        \n",
        "    return matrix\n",
        "        \n",
        "m = loglikelihood_matrix(vocab, topics, df_train)  \n",
        "m"
      ],
      "execution_count": 0,
      "outputs": [
        {
          "output_type": "execute_result",
          "data": {
            "text/plain": [
              "array([[-11.06157871, -10.92043777, -11.48457743, ..., -10.89398554,\n",
              "        -11.15817011, -11.11509365],\n",
              "       [ -9.96296642, -10.51497266,  -9.77982934, ..., -10.20083836,\n",
              "        -10.05955782, -10.70962854],\n",
              "       [-11.06157871, -10.92043777, -11.48457743, ..., -10.89398554,\n",
              "        -11.15817011, -11.11509365],\n",
              "       ...,\n",
              "       [-11.06157871, -10.92043777, -11.48457743, ..., -10.89398554,\n",
              "        -10.752705  , -11.11509365],\n",
              "       [-11.06157871, -10.51497266, -11.48457743, ..., -10.89398554,\n",
              "        -11.15817011, -11.11509365],\n",
              "       [-11.06157871, -10.92043777, -11.48457743, ..., -10.89398554,\n",
              "        -11.15817011, -11.11509365]])"
            ]
          },
          "metadata": {
            "tags": []
          },
          "execution_count": 21
        }
      ]
    },
    {
      "cell_type": "code",
      "metadata": {
        "id": "NNWRKhcnWcLD",
        "colab_type": "code",
        "colab": {}
      },
      "source": [
        "def predict_one(sentence):\n",
        "    '''\n",
        "    sentence: one cleaned sentence\n",
        "    return a np.array with the log prob of each word in the sentence\n",
        "    '''\n",
        "    #count the occurence of the words, according to the vocab\n",
        "    count = [0 for _ in vocab]\n",
        "    for word in sentence.split():\n",
        "        for i, voca in enumerate(vocab):\n",
        "            if word == voca:\n",
        "                count[i] += 1\n",
        "    \n",
        "    # f is the number of occurence of the word in the sentence\n",
        "    log_f = np.log(np.array(count)+1)\n",
        "    \n",
        "    # priors of all the classes\n",
        "    log_priors = np.log(np.array(priors))\n",
        "    \n",
        "    #log likelihood\n",
        "    prob = np.dot(log_f.T, m) + log_priors\n",
        "    \n",
        "    return prob\n",
        "\n",
        "\n",
        "def predict(allsentences):\n",
        "    n = allsentences.shape[0]\n",
        "    pred_labels = []\n",
        "    count = 0\n",
        "    for sentence in allsentences:\n",
        "        count += 1\n",
        "        #print(count)\n",
        "        prob = predict_one(sentence)\n",
        "        label = topics[np.argmax(prob)]\n",
        "        pred_labels += [label]\n",
        "    return pred_labels\n",
        "\n",
        "\n",
        "# #test\n",
        "# df_train0 = predict_one(df_train['cleaned'][8], vocab, m, priors)    \n",
        "# indx = np.argmax(df_train0)\n",
        "# topics[indx]"
      ],
      "execution_count": 0,
      "outputs": []
    },
    {
      "cell_type": "code",
      "metadata": {
        "id": "v87HGz0_4uqi",
        "colab_type": "code",
        "outputId": "cc90e344-16c9-4dd7-a886-70af108aefb4",
        "colab": {
          "base_uri": "https://localhost:8080/",
          "height": 52
        }
      },
      "source": [
        "#test on training data\n",
        "\n",
        "start = time.time()\n",
        "pred_train = predict(df_train['cleaned'][:500])\n",
        "end = time.time()\n",
        "print(end - start)\n",
        "\n",
        "same = 0 \n",
        "for label,pred in zip(df_train['subreddit'], pred_train):\n",
        "    if label == pred:\n",
        "        same +=1\n",
        "acc = same/500\n",
        "acc\n",
        "\n",
        "#alpa = 0.1 acc = 0.762 \n",
        "#alpha =1 acc = 0.702\n",
        "#alpha =2 acc = 0.68"
      ],
      "execution_count": 0,
      "outputs": [
        {
          "output_type": "stream",
          "text": [
            "85.50364756584167\n"
          ],
          "name": "stdout"
        },
        {
          "output_type": "execute_result",
          "data": {
            "text/plain": [
              "0.68"
            ]
          },
          "metadata": {
            "tags": []
          },
          "execution_count": 23
        }
      ]
    },
    {
      "cell_type": "markdown",
      "metadata": {
        "id": "Snm7OoWw591G",
        "colab_type": "text"
      },
      "source": [
        "## Predict for the test data on Kaggle"
      ]
    },
    {
      "cell_type": "code",
      "metadata": {
        "id": "lJnojqg299TH",
        "colab_type": "code",
        "outputId": "beee1f67-ff19-4e6c-e09f-d199ef33a512",
        "colab": {
          "base_uri": "https://localhost:8080/",
          "height": 363
        }
      },
      "source": [
        "df_test.tail(10)"
      ],
      "execution_count": 0,
      "outputs": [
        {
          "output_type": "execute_result",
          "data": {
            "text/html": [
              "<div>\n",
              "<style scoped>\n",
              "    .dataframe tbody tr th:only-of-type {\n",
              "        vertical-align: middle;\n",
              "    }\n",
              "\n",
              "    .dataframe tbody tr th {\n",
              "        vertical-align: top;\n",
              "    }\n",
              "\n",
              "    .dataframe thead th {\n",
              "        text-align: right;\n",
              "    }\n",
              "</style>\n",
              "<table border=\"1\" class=\"dataframe\">\n",
              "  <thead>\n",
              "    <tr style=\"text-align: right;\">\n",
              "      <th></th>\n",
              "      <th>message</th>\n",
              "    </tr>\n",
              "  </thead>\n",
              "  <tbody>\n",
              "    <tr>\n",
              "      <th>29990</th>\n",
              "      <td>Cersi never knew who it was, but never accused...</td>\n",
              "    </tr>\n",
              "    <tr>\n",
              "      <th>29991</th>\n",
              "      <td>I said this before and I'll say it again. Midg...</td>\n",
              "    </tr>\n",
              "    <tr>\n",
              "      <th>29992</th>\n",
              "      <td>By responding to me you have just been baited ...</td>\n",
              "    </tr>\n",
              "    <tr>\n",
              "      <th>29993</th>\n",
              "      <td>Ha, ok. Nice to see your football knowledge is...</td>\n",
              "    </tr>\n",
              "    <tr>\n",
              "      <th>29994</th>\n",
              "      <td>What makes you think a Demiurge exists? Let al...</td>\n",
              "    </tr>\n",
              "    <tr>\n",
              "      <th>29995</th>\n",
              "      <td>I have no idea what's going on this trailer an...</td>\n",
              "    </tr>\n",
              "    <tr>\n",
              "      <th>29996</th>\n",
              "      <td>I misread that at David Cross, and now I'm try...</td>\n",
              "    </tr>\n",
              "    <tr>\n",
              "      <th>29997</th>\n",
              "      <td>Well lets be reasonable next time and dont unb...</td>\n",
              "    </tr>\n",
              "    <tr>\n",
              "      <th>29998</th>\n",
              "      <td>Jaime dumping on Jon for going off to serve in...</td>\n",
              "    </tr>\n",
              "    <tr>\n",
              "      <th>29999</th>\n",
              "      <td>I think he'll be on par, but more mechanic tha...</td>\n",
              "    </tr>\n",
              "  </tbody>\n",
              "</table>\n",
              "</div>"
            ],
            "text/plain": [
              "                                                 message\n",
              "29990  Cersi never knew who it was, but never accused...\n",
              "29991  I said this before and I'll say it again. Midg...\n",
              "29992  By responding to me you have just been baited ...\n",
              "29993  Ha, ok. Nice to see your football knowledge is...\n",
              "29994  What makes you think a Demiurge exists? Let al...\n",
              "29995  I have no idea what's going on this trailer an...\n",
              "29996  I misread that at David Cross, and now I'm try...\n",
              "29997  Well lets be reasonable next time and dont unb...\n",
              "29998  Jaime dumping on Jon for going off to serve in...\n",
              "29999  I think he'll be on par, but more mechanic tha..."
            ]
          },
          "metadata": {
            "tags": []
          },
          "execution_count": 24
        }
      ]
    },
    {
      "cell_type": "code",
      "metadata": {
        "id": "3P3uRXywByE0",
        "colab_type": "code",
        "outputId": "2b64d0ce-ad85-4a9a-97fa-c2403d7c0fc5",
        "colab": {
          "base_uri": "https://localhost:8080/",
          "height": 223
        }
      },
      "source": [
        "#preprocess df_test\n",
        "start = time.time()\n",
        "\n",
        "df_test['cleaned'] = messages_preprocess(df_test[\"message\"])  #about 1 min\n",
        "\n",
        "end = time.time()\n",
        "print(end - start)\n",
        "df_test.head()"
      ],
      "execution_count": 0,
      "outputs": [
        {
          "output_type": "stream",
          "text": [
            "28.302858114242554\n"
          ],
          "name": "stdout"
        },
        {
          "output_type": "execute_result",
          "data": {
            "text/html": [
              "<div>\n",
              "<style scoped>\n",
              "    .dataframe tbody tr th:only-of-type {\n",
              "        vertical-align: middle;\n",
              "    }\n",
              "\n",
              "    .dataframe tbody tr th {\n",
              "        vertical-align: top;\n",
              "    }\n",
              "\n",
              "    .dataframe thead th {\n",
              "        text-align: right;\n",
              "    }\n",
              "</style>\n",
              "<table border=\"1\" class=\"dataframe\">\n",
              "  <thead>\n",
              "    <tr style=\"text-align: right;\">\n",
              "      <th></th>\n",
              "      <th>message</th>\n",
              "      <th>cleaned</th>\n",
              "    </tr>\n",
              "  </thead>\n",
              "  <tbody>\n",
              "    <tr>\n",
              "      <th>0</th>\n",
              "      <td>Trout and Bryant have both led the league in s...</td>\n",
              "      <td>trout bryant led leagu strikeout trout actual ...</td>\n",
              "    </tr>\n",
              "    <tr>\n",
              "      <th>1</th>\n",
              "      <td>&amp;gt; Just like Estonians have good reasons to ...</td>\n",
              "      <td>gt like estonian good reason fear russian expa...</td>\n",
              "    </tr>\n",
              "    <tr>\n",
              "      <th>2</th>\n",
              "      <td>Will Sol_Primeval sotp being oblivious?\\n\\nfin...</td>\n",
              "      <td>sol primev sotp oblivi find next episod</td>\n",
              "    </tr>\n",
              "    <tr>\n",
              "      <th>3</th>\n",
              "      <td>Moving Ostwald borders back to the pre 1967 bo...</td>\n",
              "      <td>move ostwald border back pre border declar pal...</td>\n",
              "    </tr>\n",
              "    <tr>\n",
              "      <th>4</th>\n",
              "      <td>You have to take it out of the bag, Morty!</td>\n",
              "      <td>take bag morti</td>\n",
              "    </tr>\n",
              "  </tbody>\n",
              "</table>\n",
              "</div>"
            ],
            "text/plain": [
              "                                             message                                            cleaned\n",
              "0  Trout and Bryant have both led the league in s...  trout bryant led leagu strikeout trout actual ...\n",
              "1  &gt; Just like Estonians have good reasons to ...  gt like estonian good reason fear russian expa...\n",
              "2  Will Sol_Primeval sotp being oblivious?\\n\\nfin...            sol primev sotp oblivi find next episod\n",
              "3  Moving Ostwald borders back to the pre 1967 bo...  move ostwald border back pre border declar pal...\n",
              "4         You have to take it out of the bag, Morty!                                     take bag morti"
            ]
          },
          "metadata": {
            "tags": []
          },
          "execution_count": 25
        }
      ]
    },
    {
      "cell_type": "code",
      "metadata": {
        "id": "yf4f7_0c4y1M",
        "colab_type": "code",
        "colab": {}
      },
      "source": [
        "#test on test data\n",
        "begin = 0\n",
        "for i in range(5000,30001,5000):\n",
        "    print(begin, i)\n",
        "   \n",
        "    start = time.time()\n",
        "    pred_test = predict(df_test['cleaned'][begin:i])\n",
        "    \n",
        "    end = time.time()\n",
        "    print(end - start)\n",
        "\n",
        "    \n",
        "    d = {'Id': range(begin,i), 'Category': pred_test}\n",
        "    df = pd.DataFrame(d)\n",
        "    file_name = \"Oct12_alpha2\" + str(begin)+\".csv\"\n",
        "    df.to_csv(file_name)\n",
        "    \n",
        "    begin =i\n"
      ],
      "execution_count": 0,
      "outputs": []
    }
  ]
}